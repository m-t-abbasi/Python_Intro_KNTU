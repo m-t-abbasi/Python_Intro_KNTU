{
 "cells": [
  {
   "cell_type": "code",
   "execution_count": 3,
   "id": "4942ff00",
   "metadata": {},
   "outputs": [
    {
     "name": "stdout",
     "output_type": "stream",
     "text": [
      "[236, 162, 104, 58, 24]\n"
     ]
    }
   ],
   "source": [
    "# Write a Python program to print all even numbers from a given numbers list in the same order\n",
    "# and stop the printing if any numbers that come after 237 in the sequence. \n",
    "# list comprehension\n",
    "lst_1 = [386, 462, 47, 418, 907, 344, 236, 375, 823, 566, 597, 978, 328, 615, 953, 345, 399, 162, 758, 219, 918, 237\n",
    "         , 412, 566, 826, 248, 866, 950, 626, 949, 687, 217, 815, 67, 104, 58, 512, 24, 892, 894, 767, 553, 81, 379\n",
    "         , 843, 831, 445, 742, 717, 958,743, 527 ]\n",
    "\n",
    "lst_2 = [i for i in lst_1 if i % 2 == 0 and i < 237]\n",
    "print(lst_2)\n"
   ]
  }
 ],
 "metadata": {
  "kernelspec": {
   "display_name": "Python 3 (ipykernel)",
   "language": "python",
   "name": "python3"
  },
  "language_info": {
   "codemirror_mode": {
    "name": "ipython",
    "version": 3
   },
   "file_extension": ".py",
   "mimetype": "text/x-python",
   "name": "python",
   "nbconvert_exporter": "python",
   "pygments_lexer": "ipython3",
   "version": "3.10.4"
  }
 },
 "nbformat": 4,
 "nbformat_minor": 5
}
