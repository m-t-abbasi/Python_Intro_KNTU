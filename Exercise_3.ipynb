{
 "cells": [
  {
   "cell_type": "code",
   "execution_count": 19,
   "id": "298390d9",
   "metadata": {
    "scrolled": true
   },
   "outputs": [
    {
     "name": "stdout",
     "output_type": "stream",
     "text": [
      "ENTER FIRST NO. : 9\n",
      "ENTER SECOND NO. : 90\n",
      "SUM IS :  99\n"
     ]
    }
   ],
   "source": [
    "# Write a Python program to sum of two given integers. However, if the sum is between 15 to 20 it will return 20.\n",
    "\n",
    "while True:\n",
    "    first_no_str = input(\"ENTER FIRST NO. : \")\n",
    "    second_no_str = input(\"ENTER SECOND NO. : \")\n",
    "    if (first_no_str.isdecimal() and second_no_str.isdecimal()):\n",
    "        break\n",
    "\n",
    "first_no_int = int(first_no_str)\n",
    "second_no_int = int(second_no_str)\n",
    "    \n",
    "sum = first_no_int + second_no_int\n",
    "\n",
    "if (sum >= 15 and sum <= 20):\n",
    "    print(\"SUM IS : \", 20)\n",
    "else:\n",
    "    print(\"SUM IS : \", sum)"
   ]
  }
 ],
 "metadata": {
  "kernelspec": {
   "display_name": "Python 3 (ipykernel)",
   "language": "python",
   "name": "python3"
  },
  "language_info": {
   "codemirror_mode": {
    "name": "ipython",
    "version": 3
   },
   "file_extension": ".py",
   "mimetype": "text/x-python",
   "name": "python",
   "nbconvert_exporter": "python",
   "pygments_lexer": "ipython3",
   "version": "3.10.4"
  }
 },
 "nbformat": 4,
 "nbformat_minor": 5
}
