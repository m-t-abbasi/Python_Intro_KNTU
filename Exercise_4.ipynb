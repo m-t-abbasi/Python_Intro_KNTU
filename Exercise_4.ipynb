{
 "cells": [
  {
   "cell_type": "code",
   "execution_count": 1,
   "id": "ee2d0baa",
   "metadata": {},
   "outputs": [
    {
     "name": "stdout",
     "output_type": "stream",
     "text": [
      "hola >>> 1\n",
      "6 >>> 1\n",
      "5 >>> 1\n",
      "s >>> 2\n",
      "1 >>> 3\n"
     ]
    }
   ],
   "source": [
    "# Write a Python program to count the members of a list and print them.\n",
    "\n",
    "# lst_1 = [1,5,6,1,1,'s','s','pooya']\n",
    "# lst_2 = []\n",
    "\n",
    "\n",
    "#    Write a Python program to count the members of a list and print them\n",
    "\n",
    "test = [1, 5, 6, 1, 1, 's', 's', 'hola']\n",
    "\n",
    "lst_ = []\n",
    "for i in range(len(test)):\n",
    "    lst = 0\n",
    "    for j in range(len(test)):\n",
    "        if test[i] == test[j]:\n",
    "            lst += 1\n",
    "    lst_.append(lst)\n",
    "\n",
    "zip_ = zip(test, lst_)\n",
    "list_zip = list(zip_)\n",
    "res = list(set(list_zip))\n",
    "\n",
    "for t in range(len(res)):\n",
    "    print(f\"{res[t][0]} >>> {res[t][1]}\")\n",
    "        \n",
    "    "
   ]
  },
  {
   "cell_type": "code",
   "execution_count": null,
   "id": "411a2da4",
   "metadata": {},
   "outputs": [],
   "source": []
  }
 ],
 "metadata": {
  "kernelspec": {
   "display_name": "Python 3 (ipykernel)",
   "language": "python",
   "name": "python3"
  },
  "language_info": {
   "codemirror_mode": {
    "name": "ipython",
    "version": 3
   },
   "file_extension": ".py",
   "mimetype": "text/x-python",
   "name": "python",
   "nbconvert_exporter": "python",
   "pygments_lexer": "ipython3",
   "version": "3.10.4"
  }
 },
 "nbformat": 4,
 "nbformat_minor": 5
}
