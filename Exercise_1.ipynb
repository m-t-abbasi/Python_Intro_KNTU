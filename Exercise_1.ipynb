{
 "cells": [
  {
   "cell_type": "code",
   "execution_count": 5,
   "id": "702b97e3",
   "metadata": {},
   "outputs": [
    {
     "name": "stdout",
     "output_type": "stream",
     "text": [
      "11\n",
      "10\n"
     ]
    }
   ],
   "source": [
    "# Write a python program to detect integer numbers in a list of strings and cast them to int and print them.\n",
    "lst = ['11', 'pooya', '10', '10.5']\n",
    "\n",
    "for i in lst:\n",
    "  if i.isdecimal():\n",
    "    print(i) \n"
   ]
  },
  {
   "cell_type": "code",
   "execution_count": null,
   "id": "cd9306e9",
   "metadata": {},
   "outputs": [],
   "source": []
  }
 ],
 "metadata": {
  "kernelspec": {
   "display_name": "Python 3.10.4 ('intro_py')",
   "language": "python",
   "name": "python3"
  },
  "language_info": {
   "codemirror_mode": {
    "name": "ipython",
    "version": 3
   },
   "file_extension": ".py",
   "mimetype": "text/x-python",
   "name": "python",
   "nbconvert_exporter": "python",
   "pygments_lexer": "ipython3",
   "version": "3.10.4"
  },
  "vscode": {
   "interpreter": {
    "hash": "d2bfede02369bba5130a1d3cbb4a2b905f581f04b4f5e5bc16b6f95b54e10616"
   }
  }
 },
 "nbformat": 4,
 "nbformat_minor": 5
}
